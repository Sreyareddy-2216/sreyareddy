{
 "cells": [
  {
   "cell_type": "markdown",
   "id": "f7400da6",
   "metadata": {},
   "source": [
    "## ASSIGNMENT-1\n"
   ]
  },
  {
   "cell_type": "markdown",
   "id": "125c1013",
   "metadata": {},
   "source": [
    "### write a python program to get the fibonacci series between 0 to 50"
   ]
  },
  {
   "cell_type": "code",
   "execution_count": 1,
   "id": "72a39bf9",
   "metadata": {},
   "outputs": [
    {
     "name": "stdout",
     "output_type": "stream",
     "text": [
      "enter the number10\n",
      "0 1 1 2 3 5 8 13 21 34 "
     ]
    }
   ],
   "source": [
    "a=0\n",
    "b=1\n",
    "n=int(input(\"enter the number\"))\n",
    "for i in range(n):\n",
    "    c=a+b\n",
    "    print(a,end=\" \")\n",
    "    a=b\n",
    "    b=c"
   ]
  },
  {
   "cell_type": "markdown",
   "id": "1a2f6f9e",
   "metadata": {},
   "source": [
    "### write a program that accepts a word from the user and reverse it"
   ]
  },
  {
   "cell_type": "code",
   "execution_count": 3,
   "id": "77be23fc",
   "metadata": {},
   "outputs": [
    {
     "name": "stdout",
     "output_type": "stream",
     "text": [
      "enter the string Edyoda\n",
      "adoydE"
     ]
    }
   ],
   "source": [
    "s=input(\"enter the string \")\n",
    "l=len(s)\n",
    "for i in range(l-1,-1,-1):\n",
    "    print(s[i],end=\"\")"
   ]
  },
  {
   "cell_type": "markdown",
   "id": "2ee5e032",
   "metadata": {},
   "source": [
    "### write a python program to count the number of even numbers and odd numbers from the series"
   ]
  },
  {
   "cell_type": "code",
   "execution_count": 5,
   "id": "1483a81a",
   "metadata": {},
   "outputs": [
    {
     "name": "stdout",
     "output_type": "stream",
     "text": [
      "number of even numbers: 4\n",
      "number of odd numbers: 5\n"
     ]
    }
   ],
   "source": [
    "number=(1,2,3,4,5,6,7,8,9)\n",
    "even_count,odd_count=0,0\n",
    "for i in number:\n",
    "    if i%2==0:\n",
    "        even_count+=1\n",
    "    else:\n",
    "        odd_count+=1\n",
    "print(\"number of even numbers:\",even_count)\n",
    "print(\"number of odd numbers:\",odd_count)"
   ]
  },
  {
   "cell_type": "code",
   "execution_count": null,
   "id": "ad5f0ace",
   "metadata": {},
   "outputs": [],
   "source": []
  }
 ],
 "metadata": {
  "kernelspec": {
   "display_name": "Python 3",
   "language": "python",
   "name": "python3"
  },
  "language_info": {
   "codemirror_mode": {
    "name": "ipython",
    "version": 3
   },
   "file_extension": ".py",
   "mimetype": "text/x-python",
   "name": "python",
   "nbconvert_exporter": "python",
   "pygments_lexer": "ipython3",
   "version": "3.6.13"
  }
 },
 "nbformat": 4,
 "nbformat_minor": 5
}
